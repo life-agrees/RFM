{
 "cells": [
  {
   "cell_type": "code",
   "execution_count": 1,
   "id": "47949eb3",
   "metadata": {},
   "outputs": [],
   "source": [
    "import numpy as np\n",
    "import pandas as pd\n",
    "import matplotlib.pyplot as plt\n",
    "import seaborn as sns\n",
    "import warnings\n",
    "warnings.filterwarnings('ignore')"
   ]
  },
  {
   "cell_type": "code",
   "execution_count": 2,
   "id": "dcc5a8fd",
   "metadata": {},
   "outputs": [],
   "source": [
    "%matplotlib inline"
   ]
  },
  {
   "cell_type": "code",
   "execution_count": 3,
   "id": "da8dd347",
   "metadata": {},
   "outputs": [],
   "source": [
    "df = pd.read_csv('online_retail_listing.csv',\n",
    "                 delimiter= ';',encoding= 'latin-1')"
   ]
  },
  {
   "cell_type": "code",
   "execution_count": 4,
   "id": "7aad7add",
   "metadata": {},
   "outputs": [
    {
     "data": {
      "text/html": [
       "<div>\n",
       "<style scoped>\n",
       "    .dataframe tbody tr th:only-of-type {\n",
       "        vertical-align: middle;\n",
       "    }\n",
       "\n",
       "    .dataframe tbody tr th {\n",
       "        vertical-align: top;\n",
       "    }\n",
       "\n",
       "    .dataframe thead th {\n",
       "        text-align: right;\n",
       "    }\n",
       "</style>\n",
       "<table border=\"1\" class=\"dataframe\">\n",
       "  <thead>\n",
       "    <tr style=\"text-align: right;\">\n",
       "      <th></th>\n",
       "      <th>Invoice</th>\n",
       "      <th>StockCode</th>\n",
       "      <th>Description</th>\n",
       "      <th>Quantity</th>\n",
       "      <th>InvoiceDate</th>\n",
       "      <th>Price</th>\n",
       "      <th>Customer ID</th>\n",
       "      <th>Country</th>\n",
       "    </tr>\n",
       "  </thead>\n",
       "  <tbody>\n",
       "    <tr>\n",
       "      <th>0</th>\n",
       "      <td>489434</td>\n",
       "      <td>85048</td>\n",
       "      <td>15CM CHRISTMAS GLASS BALL 20 LIGHTS</td>\n",
       "      <td>12</td>\n",
       "      <td>1.12.2009 07:45</td>\n",
       "      <td>6,95</td>\n",
       "      <td>13085.0</td>\n",
       "      <td>United Kingdom</td>\n",
       "    </tr>\n",
       "    <tr>\n",
       "      <th>1</th>\n",
       "      <td>489434</td>\n",
       "      <td>79323P</td>\n",
       "      <td>PINK CHERRY LIGHTS</td>\n",
       "      <td>12</td>\n",
       "      <td>1.12.2009 07:45</td>\n",
       "      <td>6,75</td>\n",
       "      <td>13085.0</td>\n",
       "      <td>United Kingdom</td>\n",
       "    </tr>\n",
       "    <tr>\n",
       "      <th>2</th>\n",
       "      <td>489434</td>\n",
       "      <td>79323W</td>\n",
       "      <td>WHITE CHERRY LIGHTS</td>\n",
       "      <td>12</td>\n",
       "      <td>1.12.2009 07:45</td>\n",
       "      <td>6,75</td>\n",
       "      <td>13085.0</td>\n",
       "      <td>United Kingdom</td>\n",
       "    </tr>\n",
       "    <tr>\n",
       "      <th>3</th>\n",
       "      <td>489434</td>\n",
       "      <td>22041</td>\n",
       "      <td>RECORD FRAME 7\" SINGLE SIZE</td>\n",
       "      <td>48</td>\n",
       "      <td>1.12.2009 07:45</td>\n",
       "      <td>2,1</td>\n",
       "      <td>13085.0</td>\n",
       "      <td>United Kingdom</td>\n",
       "    </tr>\n",
       "    <tr>\n",
       "      <th>4</th>\n",
       "      <td>489434</td>\n",
       "      <td>21232</td>\n",
       "      <td>STRAWBERRY CERAMIC TRINKET BOX</td>\n",
       "      <td>24</td>\n",
       "      <td>1.12.2009 07:45</td>\n",
       "      <td>1,25</td>\n",
       "      <td>13085.0</td>\n",
       "      <td>United Kingdom</td>\n",
       "    </tr>\n",
       "  </tbody>\n",
       "</table>\n",
       "</div>"
      ],
      "text/plain": [
       "  Invoice StockCode                          Description  Quantity  \\\n",
       "0  489434     85048  15CM CHRISTMAS GLASS BALL 20 LIGHTS        12   \n",
       "1  489434    79323P                   PINK CHERRY LIGHTS        12   \n",
       "2  489434    79323W                  WHITE CHERRY LIGHTS        12   \n",
       "3  489434     22041         RECORD FRAME 7\" SINGLE SIZE         48   \n",
       "4  489434     21232       STRAWBERRY CERAMIC TRINKET BOX        24   \n",
       "\n",
       "       InvoiceDate Price  Customer ID         Country  \n",
       "0  1.12.2009 07:45  6,95      13085.0  United Kingdom  \n",
       "1  1.12.2009 07:45  6,75      13085.0  United Kingdom  \n",
       "2  1.12.2009 07:45  6,75      13085.0  United Kingdom  \n",
       "3  1.12.2009 07:45   2,1      13085.0  United Kingdom  \n",
       "4  1.12.2009 07:45  1,25      13085.0  United Kingdom  "
      ]
     },
     "execution_count": 4,
     "metadata": {},
     "output_type": "execute_result"
    }
   ],
   "source": [
    "df.head()"
   ]
  },
  {
   "cell_type": "code",
   "execution_count": 5,
   "id": "cda7716b",
   "metadata": {},
   "outputs": [
    {
     "name": "stdout",
     "output_type": "stream",
     "text": [
      "<class 'pandas.core.frame.DataFrame'>\n",
      "RangeIndex: 1048575 entries, 0 to 1048574\n",
      "Data columns (total 8 columns):\n",
      " #   Column       Non-Null Count    Dtype  \n",
      "---  ------       --------------    -----  \n",
      " 0   Invoice      1048575 non-null  object \n",
      " 1   StockCode    1048575 non-null  object \n",
      " 2   Description  1044203 non-null  object \n",
      " 3   Quantity     1048575 non-null  int64  \n",
      " 4   InvoiceDate  1048575 non-null  object \n",
      " 5   Price        1048575 non-null  object \n",
      " 6   Customer ID  811893 non-null   float64\n",
      " 7   Country      1048575 non-null  object \n",
      "dtypes: float64(1), int64(1), object(6)\n",
      "memory usage: 64.0+ MB\n"
     ]
    }
   ],
   "source": [
    "df.info()"
   ]
  },
  {
   "cell_type": "code",
   "execution_count": 6,
   "id": "47685a17",
   "metadata": {},
   "outputs": [
    {
     "data": {
      "text/plain": [
       "34150"
      ]
     },
     "execution_count": 6,
     "metadata": {},
     "output_type": "execute_result"
    }
   ],
   "source": [
    "#checking for duplicates\n",
    "df.duplicated().sum()"
   ]
  },
  {
   "cell_type": "code",
   "execution_count": 7,
   "id": "bfd91f24",
   "metadata": {},
   "outputs": [],
   "source": [
    "#dropping them\n",
    "df = df.drop_duplicates()"
   ]
  },
  {
   "cell_type": "code",
   "execution_count": 8,
   "id": "dddc64c2",
   "metadata": {},
   "outputs": [
    {
     "name": "stdout",
     "output_type": "stream",
     "text": [
      "<class 'pandas.core.frame.DataFrame'>\n",
      "Int64Index: 1014425 entries, 0 to 1048574\n",
      "Data columns (total 8 columns):\n",
      " #   Column       Non-Null Count    Dtype  \n",
      "---  ------       --------------    -----  \n",
      " 0   Invoice      1014425 non-null  object \n",
      " 1   StockCode    1014425 non-null  object \n",
      " 2   Description  1010160 non-null  object \n",
      " 3   Quantity     1014425 non-null  int64  \n",
      " 4   InvoiceDate  1014425 non-null  object \n",
      " 5   Price        1014425 non-null  object \n",
      " 6   Customer ID  785599 non-null   float64\n",
      " 7   Country      1014425 non-null  object \n",
      "dtypes: float64(1), int64(1), object(6)\n",
      "memory usage: 69.7+ MB\n"
     ]
    }
   ],
   "source": [
    "df.info()"
   ]
  },
  {
   "cell_type": "code",
   "execution_count": 9,
   "id": "7ddd95b4",
   "metadata": {},
   "outputs": [
    {
     "data": {
      "text/plain": [
       "0"
      ]
     },
     "execution_count": 9,
     "metadata": {},
     "output_type": "execute_result"
    }
   ],
   "source": [
    "#to reconfirm if we still have dupes\n",
    "df.duplicated().sum()"
   ]
  },
  {
   "cell_type": "code",
   "execution_count": 10,
   "id": "8ccd73fa",
   "metadata": {},
   "outputs": [
    {
     "data": {
      "text/plain": [
       "Invoice             0\n",
       "StockCode           0\n",
       "Description      4265\n",
       "Quantity            0\n",
       "InvoiceDate         0\n",
       "Price               0\n",
       "Customer ID    228826\n",
       "Country             0\n",
       "dtype: int64"
      ]
     },
     "execution_count": 10,
     "metadata": {},
     "output_type": "execute_result"
    }
   ],
   "source": [
    "df.isnull().sum()"
   ]
  },
  {
   "cell_type": "code",
   "execution_count": 11,
   "id": "e016a4f9",
   "metadata": {},
   "outputs": [],
   "source": [
    "df.dropna(inplace = True)"
   ]
  },
  {
   "cell_type": "code",
   "execution_count": 12,
   "id": "667dfe5e",
   "metadata": {},
   "outputs": [
    {
     "data": {
      "text/plain": [
       "Invoice        0\n",
       "StockCode      0\n",
       "Description    0\n",
       "Quantity       0\n",
       "InvoiceDate    0\n",
       "Price          0\n",
       "Customer ID    0\n",
       "Country        0\n",
       "dtype: int64"
      ]
     },
     "execution_count": 12,
     "metadata": {},
     "output_type": "execute_result"
    }
   ],
   "source": [
    "df.isnull().sum()"
   ]
  },
  {
   "cell_type": "code",
   "execution_count": 13,
   "id": "113b1c98",
   "metadata": {},
   "outputs": [
    {
     "data": {
      "text/html": [
       "<div>\n",
       "<style scoped>\n",
       "    .dataframe tbody tr th:only-of-type {\n",
       "        vertical-align: middle;\n",
       "    }\n",
       "\n",
       "    .dataframe tbody tr th {\n",
       "        vertical-align: top;\n",
       "    }\n",
       "\n",
       "    .dataframe thead th {\n",
       "        text-align: right;\n",
       "    }\n",
       "</style>\n",
       "<table border=\"1\" class=\"dataframe\">\n",
       "  <thead>\n",
       "    <tr style=\"text-align: right;\">\n",
       "      <th></th>\n",
       "      <th>Quantity</th>\n",
       "      <th>Customer ID</th>\n",
       "    </tr>\n",
       "  </thead>\n",
       "  <tbody>\n",
       "    <tr>\n",
       "      <th>count</th>\n",
       "      <td>785599.000000</td>\n",
       "      <td>785599.000000</td>\n",
       "    </tr>\n",
       "    <tr>\n",
       "      <th>mean</th>\n",
       "      <td>12.611412</td>\n",
       "      <td>15313.078667</td>\n",
       "    </tr>\n",
       "    <tr>\n",
       "      <th>std</th>\n",
       "      <td>143.474332</td>\n",
       "      <td>1695.992802</td>\n",
       "    </tr>\n",
       "    <tr>\n",
       "      <th>min</th>\n",
       "      <td>-74215.000000</td>\n",
       "      <td>12346.000000</td>\n",
       "    </tr>\n",
       "    <tr>\n",
       "      <th>25%</th>\n",
       "      <td>2.000000</td>\n",
       "      <td>13963.000000</td>\n",
       "    </tr>\n",
       "    <tr>\n",
       "      <th>50%</th>\n",
       "      <td>5.000000</td>\n",
       "      <td>15235.000000</td>\n",
       "    </tr>\n",
       "    <tr>\n",
       "      <th>75%</th>\n",
       "      <td>12.000000</td>\n",
       "      <td>16788.000000</td>\n",
       "    </tr>\n",
       "    <tr>\n",
       "      <th>max</th>\n",
       "      <td>74215.000000</td>\n",
       "      <td>18287.000000</td>\n",
       "    </tr>\n",
       "  </tbody>\n",
       "</table>\n",
       "</div>"
      ],
      "text/plain": [
       "            Quantity    Customer ID\n",
       "count  785599.000000  785599.000000\n",
       "mean       12.611412   15313.078667\n",
       "std       143.474332    1695.992802\n",
       "min    -74215.000000   12346.000000\n",
       "25%         2.000000   13963.000000\n",
       "50%         5.000000   15235.000000\n",
       "75%        12.000000   16788.000000\n",
       "max     74215.000000   18287.000000"
      ]
     },
     "execution_count": 13,
     "metadata": {},
     "output_type": "execute_result"
    }
   ],
   "source": [
    "df.describe()"
   ]
  },
  {
   "cell_type": "code",
   "execution_count": 14,
   "id": "faef9eaa",
   "metadata": {},
   "outputs": [
    {
     "data": {
      "text/html": [
       "<div>\n",
       "<style scoped>\n",
       "    .dataframe tbody tr th:only-of-type {\n",
       "        vertical-align: middle;\n",
       "    }\n",
       "\n",
       "    .dataframe tbody tr th {\n",
       "        vertical-align: top;\n",
       "    }\n",
       "\n",
       "    .dataframe thead th {\n",
       "        text-align: right;\n",
       "    }\n",
       "</style>\n",
       "<table border=\"1\" class=\"dataframe\">\n",
       "  <thead>\n",
       "    <tr style=\"text-align: right;\">\n",
       "      <th></th>\n",
       "      <th>Invoice</th>\n",
       "      <th>StockCode</th>\n",
       "      <th>Description</th>\n",
       "      <th>Quantity</th>\n",
       "      <th>InvoiceDate</th>\n",
       "      <th>Price</th>\n",
       "      <th>Customer ID</th>\n",
       "      <th>Country</th>\n",
       "    </tr>\n",
       "  </thead>\n",
       "  <tbody>\n",
       "    <tr>\n",
       "      <th>0</th>\n",
       "      <td>489434</td>\n",
       "      <td>85048</td>\n",
       "      <td>15CM CHRISTMAS GLASS BALL 20 LIGHTS</td>\n",
       "      <td>12</td>\n",
       "      <td>1.12.2009 07:45</td>\n",
       "      <td>6,95</td>\n",
       "      <td>13085.0</td>\n",
       "      <td>United Kingdom</td>\n",
       "    </tr>\n",
       "    <tr>\n",
       "      <th>1</th>\n",
       "      <td>489434</td>\n",
       "      <td>79323P</td>\n",
       "      <td>PINK CHERRY LIGHTS</td>\n",
       "      <td>12</td>\n",
       "      <td>1.12.2009 07:45</td>\n",
       "      <td>6,75</td>\n",
       "      <td>13085.0</td>\n",
       "      <td>United Kingdom</td>\n",
       "    </tr>\n",
       "    <tr>\n",
       "      <th>2</th>\n",
       "      <td>489434</td>\n",
       "      <td>79323W</td>\n",
       "      <td>WHITE CHERRY LIGHTS</td>\n",
       "      <td>12</td>\n",
       "      <td>1.12.2009 07:45</td>\n",
       "      <td>6,75</td>\n",
       "      <td>13085.0</td>\n",
       "      <td>United Kingdom</td>\n",
       "    </tr>\n",
       "    <tr>\n",
       "      <th>3</th>\n",
       "      <td>489434</td>\n",
       "      <td>22041</td>\n",
       "      <td>RECORD FRAME 7\" SINGLE SIZE</td>\n",
       "      <td>48</td>\n",
       "      <td>1.12.2009 07:45</td>\n",
       "      <td>2,1</td>\n",
       "      <td>13085.0</td>\n",
       "      <td>United Kingdom</td>\n",
       "    </tr>\n",
       "    <tr>\n",
       "      <th>4</th>\n",
       "      <td>489434</td>\n",
       "      <td>21232</td>\n",
       "      <td>STRAWBERRY CERAMIC TRINKET BOX</td>\n",
       "      <td>24</td>\n",
       "      <td>1.12.2009 07:45</td>\n",
       "      <td>1,25</td>\n",
       "      <td>13085.0</td>\n",
       "      <td>United Kingdom</td>\n",
       "    </tr>\n",
       "  </tbody>\n",
       "</table>\n",
       "</div>"
      ],
      "text/plain": [
       "  Invoice StockCode                          Description  Quantity  \\\n",
       "0  489434     85048  15CM CHRISTMAS GLASS BALL 20 LIGHTS        12   \n",
       "1  489434    79323P                   PINK CHERRY LIGHTS        12   \n",
       "2  489434    79323W                  WHITE CHERRY LIGHTS        12   \n",
       "3  489434     22041         RECORD FRAME 7\" SINGLE SIZE         48   \n",
       "4  489434     21232       STRAWBERRY CERAMIC TRINKET BOX        24   \n",
       "\n",
       "       InvoiceDate Price  Customer ID         Country  \n",
       "0  1.12.2009 07:45  6,95      13085.0  United Kingdom  \n",
       "1  1.12.2009 07:45  6,75      13085.0  United Kingdom  \n",
       "2  1.12.2009 07:45  6,75      13085.0  United Kingdom  \n",
       "3  1.12.2009 07:45   2,1      13085.0  United Kingdom  \n",
       "4  1.12.2009 07:45  1,25      13085.0  United Kingdom  "
      ]
     },
     "execution_count": 14,
     "metadata": {},
     "output_type": "execute_result"
    }
   ],
   "source": [
    "df.head()"
   ]
  },
  {
   "cell_type": "code",
   "execution_count": 15,
   "id": "32b486b5",
   "metadata": {},
   "outputs": [
    {
     "data": {
      "text/plain": [
       "WHITE HANGING HEART T-LIGHT HOLDER    5114\n",
       "REGENCY CAKESTAND 3 TIER              3642\n",
       "ASSORTED COLOUR BIRD ORNAMENT         2683\n",
       "JUMBO BAG RED RETROSPOT               2680\n",
       "PARTY BUNTING                         2110\n",
       "Name: Description, dtype: int64"
      ]
     },
     "execution_count": 15,
     "metadata": {},
     "output_type": "execute_result"
    }
   ],
   "source": [
    "#number of item per product\n",
    "df['Description'].value_counts().head(5)"
   ]
  },
  {
   "cell_type": "code",
   "execution_count": 16,
   "id": "1a9c9f73",
   "metadata": {},
   "outputs": [],
   "source": [
    "\n",
    "des = df.groupby('Description').sum()"
   ]
  },
  {
   "cell_type": "code",
   "execution_count": 17,
   "id": "fc5d4a76",
   "metadata": {},
   "outputs": [
    {
     "data": {
      "text/html": [
       "<div>\n",
       "<style scoped>\n",
       "    .dataframe tbody tr th:only-of-type {\n",
       "        vertical-align: middle;\n",
       "    }\n",
       "\n",
       "    .dataframe tbody tr th {\n",
       "        vertical-align: top;\n",
       "    }\n",
       "\n",
       "    .dataframe thead th {\n",
       "        text-align: right;\n",
       "    }\n",
       "</style>\n",
       "<table border=\"1\" class=\"dataframe\">\n",
       "  <thead>\n",
       "    <tr style=\"text-align: right;\">\n",
       "      <th></th>\n",
       "      <th>Quantity</th>\n",
       "      <th>Customer ID</th>\n",
       "    </tr>\n",
       "    <tr>\n",
       "      <th>Description</th>\n",
       "      <th></th>\n",
       "      <th></th>\n",
       "    </tr>\n",
       "  </thead>\n",
       "  <tbody>\n",
       "    <tr>\n",
       "      <th>DOORMAT UNION JACK GUNS AND ROSES</th>\n",
       "      <td>167</td>\n",
       "      <td>813775.0</td>\n",
       "    </tr>\n",
       "    <tr>\n",
       "      <th>3 STRIPEY MICE FELTCRAFT</th>\n",
       "      <td>660</td>\n",
       "      <td>1777142.0</td>\n",
       "    </tr>\n",
       "    <tr>\n",
       "      <th>4 PURPLE FLOCK DINNER CANDLES</th>\n",
       "      <td>275</td>\n",
       "      <td>754778.0</td>\n",
       "    </tr>\n",
       "    <tr>\n",
       "      <th>50'S CHRISTMAS GIFT BAG LARGE</th>\n",
       "      <td>1853</td>\n",
       "      <td>1624122.0</td>\n",
       "    </tr>\n",
       "    <tr>\n",
       "      <th>ANIMAL STICKERS</th>\n",
       "      <td>385</td>\n",
       "      <td>182720.0</td>\n",
       "    </tr>\n",
       "  </tbody>\n",
       "</table>\n",
       "</div>"
      ],
      "text/plain": [
       "                                     Quantity  Customer ID\n",
       "Description                                               \n",
       "  DOORMAT UNION JACK GUNS AND ROSES       167     813775.0\n",
       " 3 STRIPEY MICE FELTCRAFT                 660    1777142.0\n",
       " 4 PURPLE FLOCK DINNER CANDLES            275     754778.0\n",
       " 50'S CHRISTMAS GIFT BAG LARGE           1853    1624122.0\n",
       " ANIMAL STICKERS                          385     182720.0"
      ]
     },
     "execution_count": 17,
     "metadata": {},
     "output_type": "execute_result"
    }
   ],
   "source": [
    "#number of items orderd \n",
    "des.head()"
   ]
  },
  {
   "cell_type": "code",
   "execution_count": 18,
   "id": "8572b459",
   "metadata": {},
   "outputs": [
    {
     "data": {
      "text/plain": [
       "United Kingdom    705114\n",
       "Germany            17042\n",
       "EIRE               15729\n",
       "France             13667\n",
       "Netherlands         5051\n",
       "Name: Country, dtype: int64"
      ]
     },
     "execution_count": 18,
     "metadata": {},
     "output_type": "execute_result"
    }
   ],
   "source": [
    "#amount of orders that came in from each country\n",
    "df['Country'].value_counts().head()"
   ]
  },
  {
   "cell_type": "code",
   "execution_count": 19,
   "id": "165ba3f1",
   "metadata": {},
   "outputs": [],
   "source": [
    "df['Price'] = df['Price'].apply(lambda x : float(str(x.replace(\",\",'.'))))\n",
    "df['Total_price'] = df[\"Quantity\"]*df[\"Price\"]"
   ]
  },
  {
   "cell_type": "code",
   "execution_count": 20,
   "id": "b7aab228",
   "metadata": {},
   "outputs": [
    {
     "data": {
      "text/html": [
       "<div>\n",
       "<style scoped>\n",
       "    .dataframe tbody tr th:only-of-type {\n",
       "        vertical-align: middle;\n",
       "    }\n",
       "\n",
       "    .dataframe tbody tr th {\n",
       "        vertical-align: top;\n",
       "    }\n",
       "\n",
       "    .dataframe thead th {\n",
       "        text-align: right;\n",
       "    }\n",
       "</style>\n",
       "<table border=\"1\" class=\"dataframe\">\n",
       "  <thead>\n",
       "    <tr style=\"text-align: right;\">\n",
       "      <th></th>\n",
       "      <th>Invoice</th>\n",
       "      <th>StockCode</th>\n",
       "      <th>Description</th>\n",
       "      <th>Quantity</th>\n",
       "      <th>InvoiceDate</th>\n",
       "      <th>Price</th>\n",
       "      <th>Customer ID</th>\n",
       "      <th>Country</th>\n",
       "      <th>Total_price</th>\n",
       "    </tr>\n",
       "  </thead>\n",
       "  <tbody>\n",
       "    <tr>\n",
       "      <th>0</th>\n",
       "      <td>489434</td>\n",
       "      <td>85048</td>\n",
       "      <td>15CM CHRISTMAS GLASS BALL 20 LIGHTS</td>\n",
       "      <td>12</td>\n",
       "      <td>1.12.2009 07:45</td>\n",
       "      <td>6.95</td>\n",
       "      <td>13085.0</td>\n",
       "      <td>United Kingdom</td>\n",
       "      <td>83.4</td>\n",
       "    </tr>\n",
       "    <tr>\n",
       "      <th>1</th>\n",
       "      <td>489434</td>\n",
       "      <td>79323P</td>\n",
       "      <td>PINK CHERRY LIGHTS</td>\n",
       "      <td>12</td>\n",
       "      <td>1.12.2009 07:45</td>\n",
       "      <td>6.75</td>\n",
       "      <td>13085.0</td>\n",
       "      <td>United Kingdom</td>\n",
       "      <td>81.0</td>\n",
       "    </tr>\n",
       "    <tr>\n",
       "      <th>2</th>\n",
       "      <td>489434</td>\n",
       "      <td>79323W</td>\n",
       "      <td>WHITE CHERRY LIGHTS</td>\n",
       "      <td>12</td>\n",
       "      <td>1.12.2009 07:45</td>\n",
       "      <td>6.75</td>\n",
       "      <td>13085.0</td>\n",
       "      <td>United Kingdom</td>\n",
       "      <td>81.0</td>\n",
       "    </tr>\n",
       "    <tr>\n",
       "      <th>3</th>\n",
       "      <td>489434</td>\n",
       "      <td>22041</td>\n",
       "      <td>RECORD FRAME 7\" SINGLE SIZE</td>\n",
       "      <td>48</td>\n",
       "      <td>1.12.2009 07:45</td>\n",
       "      <td>2.10</td>\n",
       "      <td>13085.0</td>\n",
       "      <td>United Kingdom</td>\n",
       "      <td>100.8</td>\n",
       "    </tr>\n",
       "    <tr>\n",
       "      <th>4</th>\n",
       "      <td>489434</td>\n",
       "      <td>21232</td>\n",
       "      <td>STRAWBERRY CERAMIC TRINKET BOX</td>\n",
       "      <td>24</td>\n",
       "      <td>1.12.2009 07:45</td>\n",
       "      <td>1.25</td>\n",
       "      <td>13085.0</td>\n",
       "      <td>United Kingdom</td>\n",
       "      <td>30.0</td>\n",
       "    </tr>\n",
       "  </tbody>\n",
       "</table>\n",
       "</div>"
      ],
      "text/plain": [
       "  Invoice StockCode                          Description  Quantity  \\\n",
       "0  489434     85048  15CM CHRISTMAS GLASS BALL 20 LIGHTS        12   \n",
       "1  489434    79323P                   PINK CHERRY LIGHTS        12   \n",
       "2  489434    79323W                  WHITE CHERRY LIGHTS        12   \n",
       "3  489434     22041         RECORD FRAME 7\" SINGLE SIZE         48   \n",
       "4  489434     21232       STRAWBERRY CERAMIC TRINKET BOX        24   \n",
       "\n",
       "       InvoiceDate  Price  Customer ID         Country  Total_price  \n",
       "0  1.12.2009 07:45   6.95      13085.0  United Kingdom         83.4  \n",
       "1  1.12.2009 07:45   6.75      13085.0  United Kingdom         81.0  \n",
       "2  1.12.2009 07:45   6.75      13085.0  United Kingdom         81.0  \n",
       "3  1.12.2009 07:45   2.10      13085.0  United Kingdom        100.8  \n",
       "4  1.12.2009 07:45   1.25      13085.0  United Kingdom         30.0  "
      ]
     },
     "execution_count": 20,
     "metadata": {},
     "output_type": "execute_result"
    }
   ],
   "source": [
    "df.head()"
   ]
  },
  {
   "cell_type": "code",
   "execution_count": 21,
   "id": "92bfa285",
   "metadata": {},
   "outputs": [
    {
     "data": {
      "text/html": [
       "<div>\n",
       "<style scoped>\n",
       "    .dataframe tbody tr th:only-of-type {\n",
       "        vertical-align: middle;\n",
       "    }\n",
       "\n",
       "    .dataframe tbody tr th {\n",
       "        vertical-align: top;\n",
       "    }\n",
       "\n",
       "    .dataframe thead th {\n",
       "        text-align: right;\n",
       "    }\n",
       "</style>\n",
       "<table border=\"1\" class=\"dataframe\">\n",
       "  <thead>\n",
       "    <tr style=\"text-align: right;\">\n",
       "      <th></th>\n",
       "      <th>Total_price</th>\n",
       "    </tr>\n",
       "    <tr>\n",
       "      <th>Invoice</th>\n",
       "      <th></th>\n",
       "    </tr>\n",
       "  </thead>\n",
       "  <tbody>\n",
       "    <tr>\n",
       "      <th>489434</th>\n",
       "      <td>505.30</td>\n",
       "    </tr>\n",
       "    <tr>\n",
       "      <th>489435</th>\n",
       "      <td>145.80</td>\n",
       "    </tr>\n",
       "    <tr>\n",
       "      <th>489436</th>\n",
       "      <td>630.33</td>\n",
       "    </tr>\n",
       "    <tr>\n",
       "      <th>489437</th>\n",
       "      <td>310.75</td>\n",
       "    </tr>\n",
       "    <tr>\n",
       "      <th>489438</th>\n",
       "      <td>2286.24</td>\n",
       "    </tr>\n",
       "  </tbody>\n",
       "</table>\n",
       "</div>"
      ],
      "text/plain": [
       "         Total_price\n",
       "Invoice             \n",
       "489434        505.30\n",
       "489435        145.80\n",
       "489436        630.33\n",
       "489437        310.75\n",
       "489438       2286.24"
      ]
     },
     "execution_count": 21,
     "metadata": {},
     "output_type": "execute_result"
    }
   ],
   "source": [
    "\n",
    "df.groupby('Invoice').agg({'Total_price':'sum'}).head()"
   ]
  },
  {
   "cell_type": "code",
   "execution_count": 22,
   "id": "746840c2",
   "metadata": {},
   "outputs": [
    {
     "data": {
      "text/html": [
       "<div>\n",
       "<style scoped>\n",
       "    .dataframe tbody tr th:only-of-type {\n",
       "        vertical-align: middle;\n",
       "    }\n",
       "\n",
       "    .dataframe tbody tr th {\n",
       "        vertical-align: top;\n",
       "    }\n",
       "\n",
       "    .dataframe thead th {\n",
       "        text-align: right;\n",
       "    }\n",
       "</style>\n",
       "<table border=\"1\" class=\"dataframe\">\n",
       "  <thead>\n",
       "    <tr style=\"text-align: right;\">\n",
       "      <th></th>\n",
       "      <th>Price</th>\n",
       "    </tr>\n",
       "    <tr>\n",
       "      <th>Description</th>\n",
       "      <th></th>\n",
       "    </tr>\n",
       "  </thead>\n",
       "  <tbody>\n",
       "    <tr>\n",
       "      <th>Manual</th>\n",
       "      <td>38970.00</td>\n",
       "    </tr>\n",
       "    <tr>\n",
       "      <th>POSTAGE</th>\n",
       "      <td>8142.75</td>\n",
       "    </tr>\n",
       "    <tr>\n",
       "      <th>Discount</th>\n",
       "      <td>1867.86</td>\n",
       "    </tr>\n",
       "    <tr>\n",
       "      <th>DOTCOM POSTAGE</th>\n",
       "      <td>1526.76</td>\n",
       "    </tr>\n",
       "    <tr>\n",
       "      <th>CRUK Commission</th>\n",
       "      <td>1038.75</td>\n",
       "    </tr>\n",
       "  </tbody>\n",
       "</table>\n",
       "</div>"
      ],
      "text/plain": [
       "                    Price\n",
       "Description              \n",
       "Manual           38970.00\n",
       "POSTAGE           8142.75\n",
       "Discount          1867.86\n",
       "DOTCOM POSTAGE    1526.76\n",
       "CRUK Commission   1038.75"
      ]
     },
     "execution_count": 22,
     "metadata": {},
     "output_type": "execute_result"
    }
   ],
   "source": [
    "#which product are expensive\n",
    "df.groupby('Description').agg({'Price':'max'}).sort_values('Price',ascending =False).head()"
   ]
  },
  {
   "cell_type": "code",
   "execution_count": 23,
   "id": "498ba8de",
   "metadata": {},
   "outputs": [],
   "source": [
    "returned = df[df['Invoice'].str.contains('C',na = False)]"
   ]
  },
  {
   "cell_type": "code",
   "execution_count": 24,
   "id": "b6553ca3",
   "metadata": {},
   "outputs": [
    {
     "data": {
      "text/html": [
       "<div>\n",
       "<style scoped>\n",
       "    .dataframe tbody tr th:only-of-type {\n",
       "        vertical-align: middle;\n",
       "    }\n",
       "\n",
       "    .dataframe tbody tr th {\n",
       "        vertical-align: top;\n",
       "    }\n",
       "\n",
       "    .dataframe thead th {\n",
       "        text-align: right;\n",
       "    }\n",
       "</style>\n",
       "<table border=\"1\" class=\"dataframe\">\n",
       "  <thead>\n",
       "    <tr style=\"text-align: right;\">\n",
       "      <th></th>\n",
       "      <th>Invoice</th>\n",
       "      <th>StockCode</th>\n",
       "      <th>Description</th>\n",
       "      <th>Quantity</th>\n",
       "      <th>InvoiceDate</th>\n",
       "      <th>Price</th>\n",
       "      <th>Customer ID</th>\n",
       "      <th>Country</th>\n",
       "      <th>Total_price</th>\n",
       "    </tr>\n",
       "  </thead>\n",
       "  <tbody>\n",
       "    <tr>\n",
       "      <th>587085</th>\n",
       "      <td>C541433</td>\n",
       "      <td>23166</td>\n",
       "      <td>MEDIUM CERAMIC TOP STORAGE JAR</td>\n",
       "      <td>-74215</td>\n",
       "      <td>18.01.2011 10:17</td>\n",
       "      <td>1.04</td>\n",
       "      <td>12346.0</td>\n",
       "      <td>United Kingdom</td>\n",
       "      <td>-77183.60</td>\n",
       "    </tr>\n",
       "    <tr>\n",
       "      <th>507225</th>\n",
       "      <td>C536757</td>\n",
       "      <td>84347</td>\n",
       "      <td>ROTATING SILVER ANGELS T-LIGHT HLDR</td>\n",
       "      <td>-9360</td>\n",
       "      <td>2.12.2010 14:23</td>\n",
       "      <td>0.03</td>\n",
       "      <td>15838.0</td>\n",
       "      <td>United Kingdom</td>\n",
       "      <td>-280.80</td>\n",
       "    </tr>\n",
       "    <tr>\n",
       "      <th>359669</th>\n",
       "      <td>C524235</td>\n",
       "      <td>21088</td>\n",
       "      <td>SET/6 FRUIT SALAD PAPER CUPS</td>\n",
       "      <td>-7128</td>\n",
       "      <td>28.09.2010 11:02</td>\n",
       "      <td>0.08</td>\n",
       "      <td>14277.0</td>\n",
       "      <td>France</td>\n",
       "      <td>-570.24</td>\n",
       "    </tr>\n",
       "    <tr>\n",
       "      <th>359670</th>\n",
       "      <td>C524235</td>\n",
       "      <td>21096</td>\n",
       "      <td>SET/6 FRUIT SALAD  PAPER PLATES</td>\n",
       "      <td>-7008</td>\n",
       "      <td>28.09.2010 11:02</td>\n",
       "      <td>0.13</td>\n",
       "      <td>14277.0</td>\n",
       "      <td>France</td>\n",
       "      <td>-911.04</td>\n",
       "    </tr>\n",
       "    <tr>\n",
       "      <th>359630</th>\n",
       "      <td>C524235</td>\n",
       "      <td>16047</td>\n",
       "      <td>POP ART PEN CASE &amp; PENS</td>\n",
       "      <td>-5184</td>\n",
       "      <td>28.09.2010 11:02</td>\n",
       "      <td>0.08</td>\n",
       "      <td>14277.0</td>\n",
       "      <td>France</td>\n",
       "      <td>-414.72</td>\n",
       "    </tr>\n",
       "  </tbody>\n",
       "</table>\n",
       "</div>"
      ],
      "text/plain": [
       "        Invoice StockCode                          Description  Quantity  \\\n",
       "587085  C541433     23166       MEDIUM CERAMIC TOP STORAGE JAR    -74215   \n",
       "507225  C536757     84347  ROTATING SILVER ANGELS T-LIGHT HLDR     -9360   \n",
       "359669  C524235     21088         SET/6 FRUIT SALAD PAPER CUPS     -7128   \n",
       "359670  C524235     21096      SET/6 FRUIT SALAD  PAPER PLATES     -7008   \n",
       "359630  C524235     16047              POP ART PEN CASE & PENS     -5184   \n",
       "\n",
       "             InvoiceDate  Price  Customer ID         Country  Total_price  \n",
       "587085  18.01.2011 10:17   1.04      12346.0  United Kingdom    -77183.60  \n",
       "507225   2.12.2010 14:23   0.03      15838.0  United Kingdom      -280.80  \n",
       "359669  28.09.2010 11:02   0.08      14277.0          France      -570.24  \n",
       "359670  28.09.2010 11:02   0.13      14277.0          France      -911.04  \n",
       "359630  28.09.2010 11:02   0.08      14277.0          France      -414.72  "
      ]
     },
     "execution_count": 24,
     "metadata": {},
     "output_type": "execute_result"
    }
   ],
   "source": [
    "returned.sort_values('Quantity',ascending = True).head()"
   ]
  },
  {
   "cell_type": "code",
   "execution_count": 25,
   "id": "ea4e206d",
   "metadata": {},
   "outputs": [],
   "source": [
    "#Recency ,how recently did the customers purchase"
   ]
  },
  {
   "cell_type": "code",
   "execution_count": 26,
   "id": "adfa7266",
   "metadata": {},
   "outputs": [],
   "source": [
    "df = df[df['Invoice'].str.contains('C',na = False)]\n",
    "df['Customer ID'] = df['Customer ID'].astype(int)"
   ]
  },
  {
   "cell_type": "code",
   "execution_count": 27,
   "id": "0b54ea38",
   "metadata": {},
   "outputs": [],
   "source": [
    "df['InvoiceDate'] = pd.to_datetime(df['InvoiceDate'])"
   ]
  },
  {
   "cell_type": "code",
   "execution_count": 28,
   "id": "f54e3031",
   "metadata": {},
   "outputs": [
    {
     "name": "stdout",
     "output_type": "stream",
     "text": [
      "Quantity yes\n",
      "62\n",
      "Price yes\n",
      "99\n",
      "Total_price yes\n",
      "68\n"
     ]
    }
   ],
   "source": [
    "for feature in [\"Quantity\",\"Price\",\"Total_price\"]:\n",
    "\n",
    "    Q1 = df[feature].quantile(0.01)\n",
    "    Q3 = df[feature].quantile(0.99)\n",
    "    IQR = Q3-Q1\n",
    "    upper = Q3 + 1.5*IQR\n",
    "    lower = Q1 - 1.5*IQR\n",
    "\n",
    "    if df[(df[feature] > upper) | (df[feature] < lower)].any(axis=None):\n",
    "        print(feature,\"yes\")\n",
    "        print(df[(df[feature] > upper) | (df[feature] < lower)].shape[0])\n",
    "    else:\n",
    "        print(feature, \"no\")"
   ]
  },
  {
   "cell_type": "code",
   "execution_count": 29,
   "id": "c5f8e2c9",
   "metadata": {},
   "outputs": [
    {
     "data": {
      "text/html": [
       "<div>\n",
       "<style scoped>\n",
       "    .dataframe tbody tr th:only-of-type {\n",
       "        vertical-align: middle;\n",
       "    }\n",
       "\n",
       "    .dataframe tbody tr th {\n",
       "        vertical-align: top;\n",
       "    }\n",
       "\n",
       "    .dataframe thead th {\n",
       "        text-align: right;\n",
       "    }\n",
       "</style>\n",
       "<table border=\"1\" class=\"dataframe\">\n",
       "  <thead>\n",
       "    <tr style=\"text-align: right;\">\n",
       "      <th></th>\n",
       "      <th>Recency</th>\n",
       "    </tr>\n",
       "    <tr>\n",
       "      <th>Customer ID</th>\n",
       "      <th></th>\n",
       "    </tr>\n",
       "  </thead>\n",
       "  <tbody>\n",
       "    <tr>\n",
       "      <th>12346</th>\n",
       "      <td>347</td>\n",
       "    </tr>\n",
       "    <tr>\n",
       "      <th>12349</th>\n",
       "      <td>993</td>\n",
       "    </tr>\n",
       "    <tr>\n",
       "      <th>12352</th>\n",
       "      <td>284</td>\n",
       "    </tr>\n",
       "    <tr>\n",
       "      <th>12359</th>\n",
       "      <td>262</td>\n",
       "    </tr>\n",
       "    <tr>\n",
       "      <th>12360</th>\n",
       "      <td>585</td>\n",
       "    </tr>\n",
       "  </tbody>\n",
       "</table>\n",
       "</div>"
      ],
      "text/plain": [
       "             Recency\n",
       "Customer ID         \n",
       "12346            347\n",
       "12349            993\n",
       "12352            284\n",
       "12359            262\n",
       "12360            585"
      ]
     },
     "execution_count": 29,
     "metadata": {},
     "output_type": "execute_result"
    }
   ],
   "source": [
    "recency =(pd.datetime(2012, 1, 1)-df.groupby('Customer ID').agg({'InvoiceDate':'max'}).rename(columns = {'InvoiceDate':'Recency'}))\n",
    "recency['Recency'] = recency['Recency'].apply(lambda x:x.days)\n",
    "recency.head()"
   ]
  },
  {
   "cell_type": "code",
   "execution_count": 30,
   "id": "5e2adb79",
   "metadata": {},
   "outputs": [],
   "source": [
    "#how often do they purchase\n",
    "frequency = df.groupby('Customer ID').agg({'InvoiceDate':'nunique'}).rename(columns = {'InvoiceDate':'Frequency'})"
   ]
  },
  {
   "cell_type": "code",
   "execution_count": 31,
   "id": "accb97ed",
   "metadata": {},
   "outputs": [
    {
     "data": {
      "text/html": [
       "<div>\n",
       "<style scoped>\n",
       "    .dataframe tbody tr th:only-of-type {\n",
       "        vertical-align: middle;\n",
       "    }\n",
       "\n",
       "    .dataframe tbody tr th {\n",
       "        vertical-align: top;\n",
       "    }\n",
       "\n",
       "    .dataframe thead th {\n",
       "        text-align: right;\n",
       "    }\n",
       "</style>\n",
       "<table border=\"1\" class=\"dataframe\">\n",
       "  <thead>\n",
       "    <tr style=\"text-align: right;\">\n",
       "      <th></th>\n",
       "      <th>Frequency</th>\n",
       "    </tr>\n",
       "    <tr>\n",
       "      <th>Customer ID</th>\n",
       "      <th></th>\n",
       "    </tr>\n",
       "  </thead>\n",
       "  <tbody>\n",
       "    <tr>\n",
       "      <th>12346</th>\n",
       "      <td>5</td>\n",
       "    </tr>\n",
       "    <tr>\n",
       "      <th>12349</th>\n",
       "      <td>1</td>\n",
       "    </tr>\n",
       "    <tr>\n",
       "      <th>12352</th>\n",
       "      <td>3</td>\n",
       "    </tr>\n",
       "    <tr>\n",
       "      <th>12359</th>\n",
       "      <td>4</td>\n",
       "    </tr>\n",
       "    <tr>\n",
       "      <th>12360</th>\n",
       "      <td>1</td>\n",
       "    </tr>\n",
       "  </tbody>\n",
       "</table>\n",
       "</div>"
      ],
      "text/plain": [
       "             Frequency\n",
       "Customer ID           \n",
       "12346                5\n",
       "12349                1\n",
       "12352                3\n",
       "12359                4\n",
       "12360                1"
      ]
     },
     "execution_count": 31,
     "metadata": {},
     "output_type": "execute_result"
    }
   ],
   "source": [
    "frequency.head()"
   ]
  },
  {
   "cell_type": "code",
   "execution_count": 32,
   "id": "c37da3f0",
   "metadata": {},
   "outputs": [],
   "source": [
    "#how much do they spend.\n",
    "monetary = df.groupby('Customer ID').agg({'Total_price':'sum'}).rename(columns = {'Total_price':'Monetary'})"
   ]
  },
  {
   "cell_type": "code",
   "execution_count": 33,
   "id": "27a2fe15",
   "metadata": {},
   "outputs": [
    {
     "data": {
      "text/html": [
       "<div>\n",
       "<style scoped>\n",
       "    .dataframe tbody tr th:only-of-type {\n",
       "        vertical-align: middle;\n",
       "    }\n",
       "\n",
       "    .dataframe tbody tr th {\n",
       "        vertical-align: top;\n",
       "    }\n",
       "\n",
       "    .dataframe thead th {\n",
       "        text-align: right;\n",
       "    }\n",
       "</style>\n",
       "<table border=\"1\" class=\"dataframe\">\n",
       "  <thead>\n",
       "    <tr style=\"text-align: right;\">\n",
       "      <th></th>\n",
       "      <th>Monetary</th>\n",
       "    </tr>\n",
       "    <tr>\n",
       "      <th>Customer ID</th>\n",
       "      <th></th>\n",
       "    </tr>\n",
       "  </thead>\n",
       "  <tbody>\n",
       "    <tr>\n",
       "      <th>12346</th>\n",
       "      <td>-77608.20</td>\n",
       "    </tr>\n",
       "    <tr>\n",
       "      <th>12349</th>\n",
       "      <td>-24.15</td>\n",
       "    </tr>\n",
       "    <tr>\n",
       "      <th>12352</th>\n",
       "      <td>-960.63</td>\n",
       "    </tr>\n",
       "    <tr>\n",
       "      <th>12359</th>\n",
       "      <td>-221.05</td>\n",
       "    </tr>\n",
       "    <tr>\n",
       "      <th>12360</th>\n",
       "      <td>-40.00</td>\n",
       "    </tr>\n",
       "  </tbody>\n",
       "</table>\n",
       "</div>"
      ],
      "text/plain": [
       "             Monetary\n",
       "Customer ID          \n",
       "12346       -77608.20\n",
       "12349          -24.15\n",
       "12352         -960.63\n",
       "12359         -221.05\n",
       "12360          -40.00"
      ]
     },
     "execution_count": 33,
     "metadata": {},
     "output_type": "execute_result"
    }
   ],
   "source": [
    "monetary.head()"
   ]
  },
  {
   "cell_type": "code",
   "execution_count": 34,
   "id": "cc6ec5fe",
   "metadata": {},
   "outputs": [],
   "source": [
    "RFM = pd.concat([recency,frequency,monetary],axis =1 )"
   ]
  },
  {
   "cell_type": "code",
   "execution_count": 35,
   "id": "c1ea346d",
   "metadata": {},
   "outputs": [
    {
     "data": {
      "text/html": [
       "<div>\n",
       "<style scoped>\n",
       "    .dataframe tbody tr th:only-of-type {\n",
       "        vertical-align: middle;\n",
       "    }\n",
       "\n",
       "    .dataframe tbody tr th {\n",
       "        vertical-align: top;\n",
       "    }\n",
       "\n",
       "    .dataframe thead th {\n",
       "        text-align: right;\n",
       "    }\n",
       "</style>\n",
       "<table border=\"1\" class=\"dataframe\">\n",
       "  <thead>\n",
       "    <tr style=\"text-align: right;\">\n",
       "      <th></th>\n",
       "      <th>Recency</th>\n",
       "      <th>Frequency</th>\n",
       "      <th>Monetary</th>\n",
       "    </tr>\n",
       "    <tr>\n",
       "      <th>Customer ID</th>\n",
       "      <th></th>\n",
       "      <th></th>\n",
       "      <th></th>\n",
       "    </tr>\n",
       "  </thead>\n",
       "  <tbody>\n",
       "    <tr>\n",
       "      <th>12346</th>\n",
       "      <td>347</td>\n",
       "      <td>5</td>\n",
       "      <td>-77608.20</td>\n",
       "    </tr>\n",
       "    <tr>\n",
       "      <th>12349</th>\n",
       "      <td>993</td>\n",
       "      <td>1</td>\n",
       "      <td>-24.15</td>\n",
       "    </tr>\n",
       "    <tr>\n",
       "      <th>12352</th>\n",
       "      <td>284</td>\n",
       "      <td>3</td>\n",
       "      <td>-960.63</td>\n",
       "    </tr>\n",
       "    <tr>\n",
       "      <th>12359</th>\n",
       "      <td>262</td>\n",
       "      <td>4</td>\n",
       "      <td>-221.05</td>\n",
       "    </tr>\n",
       "    <tr>\n",
       "      <th>12360</th>\n",
       "      <td>585</td>\n",
       "      <td>1</td>\n",
       "      <td>-40.00</td>\n",
       "    </tr>\n",
       "  </tbody>\n",
       "</table>\n",
       "</div>"
      ],
      "text/plain": [
       "             Recency  Frequency  Monetary\n",
       "Customer ID                              \n",
       "12346            347          5 -77608.20\n",
       "12349            993          1    -24.15\n",
       "12352            284          3   -960.63\n",
       "12359            262          4   -221.05\n",
       "12360            585          1    -40.00"
      ]
     },
     "execution_count": 35,
     "metadata": {},
     "output_type": "execute_result"
    }
   ],
   "source": [
    "RFM.head()"
   ]
  },
  {
   "cell_type": "code",
   "execution_count": 36,
   "id": "eb02aeba",
   "metadata": {},
   "outputs": [],
   "source": [
    "#creat an RFM score"
   ]
  },
  {
   "cell_type": "code",
   "execution_count": 37,
   "id": "f00c6194",
   "metadata": {},
   "outputs": [],
   "source": [
    "RFM['Recency_score'] = pd.qcut(RFM['Recency'],5 ,labels=[5,4,3,2,1])\n",
    "RFM['Frequency_score'] = pd.qcut(RFM['Frequency'].rank(method = 'first'),5,labels=[1,2,3,4,5])\n",
    "RFM['Monetary_score'] = pd.qcut(RFM['Monetary'],5 , labels=[1,2,3,4,5])"
   ]
  },
  {
   "cell_type": "code",
   "execution_count": 38,
   "id": "3f45d2c4",
   "metadata": {},
   "outputs": [
    {
     "data": {
      "text/html": [
       "<div>\n",
       "<style scoped>\n",
       "    .dataframe tbody tr th:only-of-type {\n",
       "        vertical-align: middle;\n",
       "    }\n",
       "\n",
       "    .dataframe tbody tr th {\n",
       "        vertical-align: top;\n",
       "    }\n",
       "\n",
       "    .dataframe thead th {\n",
       "        text-align: right;\n",
       "    }\n",
       "</style>\n",
       "<table border=\"1\" class=\"dataframe\">\n",
       "  <thead>\n",
       "    <tr style=\"text-align: right;\">\n",
       "      <th></th>\n",
       "      <th>Recency</th>\n",
       "      <th>Frequency</th>\n",
       "      <th>Monetary</th>\n",
       "      <th>Recency_score</th>\n",
       "      <th>Frequency_score</th>\n",
       "      <th>Monetary_score</th>\n",
       "    </tr>\n",
       "    <tr>\n",
       "      <th>Customer ID</th>\n",
       "      <th></th>\n",
       "      <th></th>\n",
       "      <th></th>\n",
       "      <th></th>\n",
       "      <th></th>\n",
       "      <th></th>\n",
       "    </tr>\n",
       "  </thead>\n",
       "  <tbody>\n",
       "    <tr>\n",
       "      <th>12346</th>\n",
       "      <td>347</td>\n",
       "      <td>5</td>\n",
       "      <td>-77608.20</td>\n",
       "      <td>3</td>\n",
       "      <td>5</td>\n",
       "      <td>1</td>\n",
       "    </tr>\n",
       "    <tr>\n",
       "      <th>12349</th>\n",
       "      <td>993</td>\n",
       "      <td>1</td>\n",
       "      <td>-24.15</td>\n",
       "      <td>1</td>\n",
       "      <td>1</td>\n",
       "      <td>4</td>\n",
       "    </tr>\n",
       "    <tr>\n",
       "      <th>12352</th>\n",
       "      <td>284</td>\n",
       "      <td>3</td>\n",
       "      <td>-960.63</td>\n",
       "      <td>3</td>\n",
       "      <td>4</td>\n",
       "      <td>1</td>\n",
       "    </tr>\n",
       "    <tr>\n",
       "      <th>12359</th>\n",
       "      <td>262</td>\n",
       "      <td>4</td>\n",
       "      <td>-221.05</td>\n",
       "      <td>3</td>\n",
       "      <td>4</td>\n",
       "      <td>1</td>\n",
       "    </tr>\n",
       "    <tr>\n",
       "      <th>12360</th>\n",
       "      <td>585</td>\n",
       "      <td>1</td>\n",
       "      <td>-40.00</td>\n",
       "      <td>1</td>\n",
       "      <td>1</td>\n",
       "      <td>3</td>\n",
       "    </tr>\n",
       "  </tbody>\n",
       "</table>\n",
       "</div>"
      ],
      "text/plain": [
       "             Recency  Frequency  Monetary Recency_score Frequency_score  \\\n",
       "Customer ID                                                               \n",
       "12346            347          5 -77608.20             3               5   \n",
       "12349            993          1    -24.15             1               1   \n",
       "12352            284          3   -960.63             3               4   \n",
       "12359            262          4   -221.05             3               4   \n",
       "12360            585          1    -40.00             1               1   \n",
       "\n",
       "            Monetary_score  \n",
       "Customer ID                 \n",
       "12346                    1  \n",
       "12349                    4  \n",
       "12352                    1  \n",
       "12359                    1  \n",
       "12360                    3  "
      ]
     },
     "execution_count": 38,
     "metadata": {},
     "output_type": "execute_result"
    }
   ],
   "source": [
    "RFM.head()"
   ]
  },
  {
   "cell_type": "code",
   "execution_count": 39,
   "id": "97a365a8",
   "metadata": {},
   "outputs": [],
   "source": [
    "RFM['RFM_Score'] = (RFM['Recency_score'].astype(str)+RFM['Frequency_score'].astype(str)+RFM['Monetary_score'].astype(str))"
   ]
  },
  {
   "cell_type": "code",
   "execution_count": 41,
   "id": "c3fb8a64",
   "metadata": {},
   "outputs": [
    {
     "name": "stdout",
     "output_type": "stream",
     "text": [
      "<class 'pandas.core.frame.DataFrame'>\n",
      "Int64Index: 2561 entries, 12346 to 18287\n",
      "Data columns (total 7 columns):\n",
      " #   Column           Non-Null Count  Dtype   \n",
      "---  ------           --------------  -----   \n",
      " 0   Recency          2561 non-null   int64   \n",
      " 1   Frequency        2561 non-null   int64   \n",
      " 2   Monetary         2561 non-null   float64 \n",
      " 3   Recency_score    2561 non-null   category\n",
      " 4   Frequency_score  2561 non-null   category\n",
      " 5   Monetary_score   2561 non-null   category\n",
      " 6   RFM_Score        2561 non-null   object  \n",
      "dtypes: category(3), float64(1), int64(2), object(1)\n",
      "memory usage: 108.2+ KB\n"
     ]
    }
   ],
   "source": [
    "RFM.info()"
   ]
  },
  {
   "cell_type": "code",
   "execution_count": 42,
   "id": "1624c637",
   "metadata": {},
   "outputs": [
    {
     "data": {
      "text/html": [
       "<div>\n",
       "<style scoped>\n",
       "    .dataframe tbody tr th:only-of-type {\n",
       "        vertical-align: middle;\n",
       "    }\n",
       "\n",
       "    .dataframe tbody tr th {\n",
       "        vertical-align: top;\n",
       "    }\n",
       "\n",
       "    .dataframe thead th {\n",
       "        text-align: right;\n",
       "    }\n",
       "</style>\n",
       "<table border=\"1\" class=\"dataframe\">\n",
       "  <thead>\n",
       "    <tr style=\"text-align: right;\">\n",
       "      <th></th>\n",
       "      <th>Recency</th>\n",
       "      <th>Frequency</th>\n",
       "      <th>Monetary</th>\n",
       "      <th>Recency_score</th>\n",
       "      <th>Frequency_score</th>\n",
       "      <th>Monetary_score</th>\n",
       "      <th>RFM_Score</th>\n",
       "    </tr>\n",
       "    <tr>\n",
       "      <th>Customer ID</th>\n",
       "      <th></th>\n",
       "      <th></th>\n",
       "      <th></th>\n",
       "      <th></th>\n",
       "      <th></th>\n",
       "      <th></th>\n",
       "      <th></th>\n",
       "    </tr>\n",
       "  </thead>\n",
       "  <tbody>\n",
       "    <tr>\n",
       "      <th>12346</th>\n",
       "      <td>347</td>\n",
       "      <td>5</td>\n",
       "      <td>-77608.20</td>\n",
       "      <td>3</td>\n",
       "      <td>5</td>\n",
       "      <td>1</td>\n",
       "      <td>351</td>\n",
       "    </tr>\n",
       "    <tr>\n",
       "      <th>12349</th>\n",
       "      <td>993</td>\n",
       "      <td>1</td>\n",
       "      <td>-24.15</td>\n",
       "      <td>1</td>\n",
       "      <td>1</td>\n",
       "      <td>4</td>\n",
       "      <td>114</td>\n",
       "    </tr>\n",
       "    <tr>\n",
       "      <th>12352</th>\n",
       "      <td>284</td>\n",
       "      <td>3</td>\n",
       "      <td>-960.63</td>\n",
       "      <td>3</td>\n",
       "      <td>4</td>\n",
       "      <td>1</td>\n",
       "      <td>341</td>\n",
       "    </tr>\n",
       "    <tr>\n",
       "      <th>12359</th>\n",
       "      <td>262</td>\n",
       "      <td>4</td>\n",
       "      <td>-221.05</td>\n",
       "      <td>3</td>\n",
       "      <td>4</td>\n",
       "      <td>1</td>\n",
       "      <td>341</td>\n",
       "    </tr>\n",
       "    <tr>\n",
       "      <th>12360</th>\n",
       "      <td>585</td>\n",
       "      <td>1</td>\n",
       "      <td>-40.00</td>\n",
       "      <td>1</td>\n",
       "      <td>1</td>\n",
       "      <td>3</td>\n",
       "      <td>113</td>\n",
       "    </tr>\n",
       "  </tbody>\n",
       "</table>\n",
       "</div>"
      ],
      "text/plain": [
       "             Recency  Frequency  Monetary Recency_score Frequency_score  \\\n",
       "Customer ID                                                               \n",
       "12346            347          5 -77608.20             3               5   \n",
       "12349            993          1    -24.15             1               1   \n",
       "12352            284          3   -960.63             3               4   \n",
       "12359            262          4   -221.05             3               4   \n",
       "12360            585          1    -40.00             1               1   \n",
       "\n",
       "            Monetary_score RFM_Score  \n",
       "Customer ID                           \n",
       "12346                    1       351  \n",
       "12349                    4       114  \n",
       "12352                    1       341  \n",
       "12359                    1       341  \n",
       "12360                    3       113  "
      ]
     },
     "execution_count": 42,
     "metadata": {},
     "output_type": "execute_result"
    }
   ],
   "source": [
    "RFM.head()"
   ]
  },
  {
   "cell_type": "code",
   "execution_count": null,
   "id": "74e24938",
   "metadata": {},
   "outputs": [],
   "source": []
  },
  {
   "cell_type": "code",
   "execution_count": 44,
   "id": "1bf4b8ac",
   "metadata": {},
   "outputs": [],
   "source": [
    "#mapping regular Expressions to customer Segments"
   ]
  },
  {
   "cell_type": "code",
   "execution_count": 45,
   "id": "c03e0abb",
   "metadata": {},
   "outputs": [],
   "source": [
    "seg_map = {r'[1-2][1-2]': 'hibernating',\n",
    "           r'[1-2][3-4]': 'at_Risk',\n",
    "           r'[1-2]5': 'cant_loose',\n",
    "           r'3[1-2]': 'about_to_sleep',\n",
    "           r'33': 'need_attention',\n",
    "           r'[3-4][4-5]': 'loyal_customers',\n",
    "           r'41': 'promising',\n",
    "           r'51': 'new_customers',\n",
    "           r'[4-5][2-3]': 'potential_loyalists',\n",
    "           r'5[4-5]': 'champions'}\n",
    "\n",
    "\n",
    "RFM['Segment'] = RFM['Recency_score'].astype(str)+RFM['Frequency_score'].astype(str)\n",
    "RFM['Segment'] = RFM['Segment'].replace(seg_map,regex = True)"
   ]
  },
  {
   "cell_type": "code",
   "execution_count": 48,
   "id": "a6064fc8",
   "metadata": {},
   "outputs": [
    {
     "data": {
      "text/html": [
       "<div>\n",
       "<style scoped>\n",
       "    .dataframe tbody tr th:only-of-type {\n",
       "        vertical-align: middle;\n",
       "    }\n",
       "\n",
       "    .dataframe tbody tr th {\n",
       "        vertical-align: top;\n",
       "    }\n",
       "\n",
       "    .dataframe thead th {\n",
       "        text-align: right;\n",
       "    }\n",
       "</style>\n",
       "<table border=\"1\" class=\"dataframe\">\n",
       "  <thead>\n",
       "    <tr style=\"text-align: right;\">\n",
       "      <th></th>\n",
       "      <th>Recency</th>\n",
       "      <th>Frequency</th>\n",
       "      <th>Monetary</th>\n",
       "      <th>Recency_score</th>\n",
       "      <th>Frequency_score</th>\n",
       "      <th>Monetary_score</th>\n",
       "      <th>RFM_Score</th>\n",
       "      <th>Segment</th>\n",
       "    </tr>\n",
       "    <tr>\n",
       "      <th>Customer ID</th>\n",
       "      <th></th>\n",
       "      <th></th>\n",
       "      <th></th>\n",
       "      <th></th>\n",
       "      <th></th>\n",
       "      <th></th>\n",
       "      <th></th>\n",
       "      <th></th>\n",
       "    </tr>\n",
       "  </thead>\n",
       "  <tbody>\n",
       "    <tr>\n",
       "      <th>18280</th>\n",
       "      <td>402</td>\n",
       "      <td>1</td>\n",
       "      <td>-15.70</td>\n",
       "      <td>2</td>\n",
       "      <td>3</td>\n",
       "      <td>4</td>\n",
       "      <td>234</td>\n",
       "      <td>at_Risk</td>\n",
       "    </tr>\n",
       "    <tr>\n",
       "      <th>18282</th>\n",
       "      <td>114</td>\n",
       "      <td>1</td>\n",
       "      <td>-1.45</td>\n",
       "      <td>4</td>\n",
       "      <td>3</td>\n",
       "      <td>5</td>\n",
       "      <td>435</td>\n",
       "      <td>potential_loyalists</td>\n",
       "    </tr>\n",
       "    <tr>\n",
       "      <th>18284</th>\n",
       "      <td>569</td>\n",
       "      <td>1</td>\n",
       "      <td>-25.00</td>\n",
       "      <td>1</td>\n",
       "      <td>3</td>\n",
       "      <td>4</td>\n",
       "      <td>134</td>\n",
       "      <td>at_Risk</td>\n",
       "    </tr>\n",
       "    <tr>\n",
       "      <th>18286</th>\n",
       "      <td>555</td>\n",
       "      <td>1</td>\n",
       "      <td>-108.00</td>\n",
       "      <td>1</td>\n",
       "      <td>3</td>\n",
       "      <td>2</td>\n",
       "      <td>132</td>\n",
       "      <td>at_Risk</td>\n",
       "    </tr>\n",
       "    <tr>\n",
       "      <th>18287</th>\n",
       "      <td>1083</td>\n",
       "      <td>1</td>\n",
       "      <td>-5.10</td>\n",
       "      <td>1</td>\n",
       "      <td>3</td>\n",
       "      <td>5</td>\n",
       "      <td>135</td>\n",
       "      <td>at_Risk</td>\n",
       "    </tr>\n",
       "  </tbody>\n",
       "</table>\n",
       "</div>"
      ],
      "text/plain": [
       "             Recency  Frequency  Monetary Recency_score Frequency_score  \\\n",
       "Customer ID                                                               \n",
       "18280            402          1    -15.70             2               3   \n",
       "18282            114          1     -1.45             4               3   \n",
       "18284            569          1    -25.00             1               3   \n",
       "18286            555          1   -108.00             1               3   \n",
       "18287           1083          1     -5.10             1               3   \n",
       "\n",
       "            Monetary_score RFM_Score              Segment  \n",
       "Customer ID                                                \n",
       "18280                    4       234              at_Risk  \n",
       "18282                    5       435  potential_loyalists  \n",
       "18284                    4       134              at_Risk  \n",
       "18286                    2       132              at_Risk  \n",
       "18287                    5       135              at_Risk  "
      ]
     },
     "execution_count": 48,
     "metadata": {},
     "output_type": "execute_result"
    }
   ],
   "source": [
    "RFM.tail()"
   ]
  },
  {
   "cell_type": "code",
   "execution_count": 47,
   "id": "75e9d80c",
   "metadata": {},
   "outputs": [
    {
     "name": "stdout",
     "output_type": "stream",
     "text": [
      "<class 'pandas.core.frame.DataFrame'>\n",
      "Int64Index: 2561 entries, 12346 to 18287\n",
      "Data columns (total 8 columns):\n",
      " #   Column           Non-Null Count  Dtype   \n",
      "---  ------           --------------  -----   \n",
      " 0   Recency          2561 non-null   int64   \n",
      " 1   Frequency        2561 non-null   int64   \n",
      " 2   Monetary         2561 non-null   float64 \n",
      " 3   Recency_score    2561 non-null   category\n",
      " 4   Frequency_score  2561 non-null   category\n",
      " 5   Monetary_score   2561 non-null   category\n",
      " 6   RFM_Score        2561 non-null   object  \n",
      " 7   Segment          2561 non-null   object  \n",
      "dtypes: category(3), float64(1), int64(2), object(2)\n",
      "memory usage: 128.2+ KB\n"
     ]
    }
   ],
   "source": [
    "RFM.info()"
   ]
  },
  {
   "cell_type": "code",
   "execution_count": 55,
   "id": "c70fd3fa",
   "metadata": {},
   "outputs": [
    {
     "data": {
      "image/png": "[encoded data removed]",
      "text/plain": [
       "<Figure size 1200x600 with 1 Axes>"
      ]
     },
     "metadata": {},
     "output_type": "display_data"
    }
   ],
   "source": [
    "plt.figure(figsize = (12,6))\n",
    "sns.countplot(data = RFM,x = 'Segment')\n",
    "plt.xticks(rotation = 'vertical')\n",
    "plt.tight_layout()"
   ]
  },
  {
   "cell_type": "code",
   "execution_count": null,
   "id": "675c495f",
   "metadata": {},
   "outputs": [],
   "source": []
  },
  {
   "cell_type": "code",
   "execution_count": null,
   "id": "6d52859d",
   "metadata": {},
   "outputs": [],
   "source": []
  }
 ],
 "metadata": {
  "kernelspec": {
   "display_name": "Python 3 (ipykernel)",
   "language": "python",
   "name": "python3"
  },
  "language_info": {
   "codemirror_mode": {
    "name": "ipython",
    "version": 3
   },
   "file_extension": ".py",
   "mimetype": "text/x-python",
   "name": "python",
   "nbconvert_exporter": "python",
   "pygments_lexer": "ipython3",
   "version": "3.11.4"
  }
 },
 "nbformat": 4,
 "nbformat_minor": 5
}
